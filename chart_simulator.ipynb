{
  "cells": [
    {
      "cell_type": "markdown",
      "metadata": {
        "id": "Mtfo3KdFWYAJ"
      },
      "source": [
        "The following algorithm can be used to make charts more quickly (e.g., producing outputs for all $T = 10^6$ time steps), under the assumption that the degree bound $D$ is correct.\n",
        "\n",
        "This algorithm is NOT PRIVATE! It only shows what the added noise would be like. See `full_alg.ipynb` for the private algorithm.\n",
        "\n",
        "We implement Algorithm 5 from https://arxiv.org/pdf/2403.04630v1.pdf\n",
        "\n",
        "* Running the code below will generate the \"zoomed in\" plots (i.e., $50{,}000$ time steps) for $D = 300$ that were presented in the rebuttal.\n",
        " * In the code right before \"Generate Stream\", setting `block = True` and `deg_bd = 15_000` will make the block models described in the rebuttal.\n",
        " * Setting `deg_bd = 1_000` will make the plots for $D = 1{,}000$ shown in the rebuttal.\n",
        "* We use $\\varepsilon = 1$, $\\delta = 10^{-10}$, $T = 10^6$, $\\beta = 0.05$.\n",
        " * These values can be changed immediately after the \"Run Algorithm\" header.\n"
      ]
    },
    {
      "cell_type": "code",
      "execution_count": 1,
      "metadata": {
        "id": "i0HEEFDsiqAM"
      },
      "outputs": [],
      "source": [
        "import numpy as np\n",
        "import matplotlib.pyplot as plt"
      ]
    },
    {
      "cell_type": "markdown",
      "metadata": {
        "id": "fjJok041QbSh"
      },
      "source": [
        "# Binary tree mechanism"
      ]
    },
    {
      "cell_type": "code",
      "execution_count": 2,
      "metadata": {
        "id": "olimMMsye7H1"
      },
      "outputs": [],
      "source": [
        "'''\n",
        "Modified from code for https://arxiv.org/abs/2306.09666,\n",
        "in https://github.com/jodander/smooth-binary-mechanism/blob/main/mechanism_noise_generation.py\n",
        "and https://github.com/jodander/smooth-binary-mechanism/blob/main/example.ipynb\n",
        "'''\n",
        "\n",
        "def power_2_iterator(end = None):\n",
        "    '''Iterate over non-negative powers of 2 in increasing order\n",
        "\n",
        "    Parameters:\n",
        "    end: only numbers up to end are output (optional, default is None)\n",
        "\n",
        "    Returns:\n",
        "    an iterator object for the sequence\n",
        "    '''\n",
        "    x = 1\n",
        "    while (end is None) or (x <= end):\n",
        "        yield x\n",
        "        x *= 2\n",
        "\n",
        "def binary_mechanism_noise(T, eps = 1., dimensions = 1, noise_generator = np.random.laplace, neutral_element = 0., l1_sens = 1.):\n",
        "    '''Compute additive noise vector for private counting under continual observation\n",
        "\n",
        "    This method implements an efficient variant of the classical \"Binary Mechanism\".\n",
        "\n",
        "    Adding the noise vector to the prefix sum vector of x in {0,1}^T will make\n",
        "    it differentially private (specifically, rho-zCDP) with respect to the\n",
        "    neighboring relation that changes a single bit of x.\n",
        "\n",
        "    The space usage of the iterator is proportional to log T, it uses constant time\n",
        "    on average for generating each value. See https://arxiv.org/abs/2306.09666 for details.\n",
        "\n",
        "    Parameters:\n",
        "    T: number of time steps\n",
        "    rho: privacy parameter (optional, default is 1.)\n",
        "    dimensions: number of noise values output per time step (optional, default is 1)\n",
        "    noise_generator: generator for Gaussian noise (optional, default is Numpy's)\n",
        "    neutral_element: zero noise value (optional, default is floating point zero)\n",
        "\n",
        "    Returns:\n",
        "    an iterator object for a sequence of T noise vectors\n",
        "    '''\n",
        "\n",
        "    # Initialization\n",
        "    depth = 0\n",
        "    while 2**depth <= T: # find smallest tree with > T leaves\n",
        "        depth += 1\n",
        "    variance = 2 * l1_sens * depth/eps # variance per node to achieve rho-zCDP\n",
        "    noise = {} # dictionary mapping node depths to noise\n",
        "    leaves = iter(range(1, T+1))\n",
        "\n",
        "    # Iteration\n",
        "    n = neutral_element # Current noise value, always equal to sum of values in noise dict\n",
        "    l1, l2 = None, 0 # Two adjacent leaves currently considered, paths encoded in binary\n",
        "    for _ in range(T): # Invariant: 1s in l2 have stored noise, summing to n\n",
        "        l1, l2 = l2, next(leaves)\n",
        "        for b in power_2_iterator(l1 ^ l2): # Iterate over bit positions after longest common prefix\n",
        "            if b & l1 > 0: # Remove nodes from path to previous leaf\n",
        "                n -= noise[b]\n",
        "                del noise[b]\n",
        "            if b & l2 > 0: # Add nodes from path to next leaf\n",
        "                if b not in noise:\n",
        "                    noise[b] = noise_generator(0, variance, size=dimensions)\n",
        "                n += noise[b]\n",
        "        yield n"
      ]
    },
    {
      "cell_type": "markdown",
      "metadata": {
        "id": "dNr6xIqsSzD4"
      },
      "source": [
        "# Our Alg"
      ]
    },
    {
      "cell_type": "code",
      "execution_count": 3,
      "metadata": {
        "id": "dgbDhzEc5T-C"
      },
      "outputs": [],
      "source": [
        "def projection_alg(graph_stream, degree_bound):\n",
        "  '''\n",
        "  Implements Alg 1.\n",
        "\n",
        "  Input: a graph stream (a list of sets of edges), and a degree bound.\n",
        "  Output: a graph stream with maximum degree degree_bound.\n",
        "  '''\n",
        "  degree_counter = {}\n",
        "  for edges_index_ in graph_stream: # will receive a list of edges at each time step\n",
        "    edges = graph_stream[edges_index_]\n",
        "    edges_sorted = edges[np.lexsort([edges[:, 0], edges[:, 1]])] # sort edges in lexicog order\n",
        "    stream_elt_zeros = np.zeros(np.shape(edges_sorted),dtype = np.int64)\n",
        "    num_added = 0\n",
        "    for (node_1, node_2) in edges_sorted: # for (node_1, node_2) in the list of edges\n",
        "      node_1_deg = degree_counter.get(str(node_1), 0)\n",
        "      node_2_deg = degree_counter.get(str(node_2), 0)\n",
        "\n",
        "      add_edge = (node_1_deg < degree_bound) and (node_2_deg < degree_bound)\n",
        "\n",
        "      if add_edge:\n",
        "        stream_elt_zeros[num_added] = [node_1, node_2]\n",
        "        num_added += 1\n",
        "      # else ignore the edge\n",
        "\n",
        "      # increase the counter\n",
        "      degree_counter[str(node_1)] = node_1_deg + 1\n",
        "      degree_counter[str(node_2)] = node_2_deg + 1\n",
        "    yield stream_elt_zeros[:num_added,:]"
      ]
    },
    {
      "cell_type": "code",
      "execution_count": 4,
      "metadata": {
        "id": "lOhvjFQhFSoK"
      },
      "outputs": [],
      "source": [
        "def degree_hist_baseline(graph_stream):\n",
        "  '''\n",
        "  Tracks the degree histogram of a graph stream.\n",
        "  (This can be thought of as a \"baseline\" for time complexity -- it is a non-optimized\n",
        "  algorithm for maintaining a degree histogram for a graph.)\n",
        "\n",
        "  Input: a graph stream.\n",
        "  Output: the number of edges in the graph stream so far (the degree histogram is maintained but not returned)\n",
        "  '''\n",
        "  degree_counter = {}\n",
        "  num_edges = 0\n",
        "  for edges_index_ in graph_stream: # will receive a list of edges at each time step\n",
        "    edges = graph_stream[edges_index_]\n",
        "    edges_sorted = edges[np.lexsort([edges[:, 0], edges[:, 1]])] # sort edges in lexicog order\n",
        "    stream_elt_zeros = np.zeros(np.shape(edges_sorted),dtype = np.int64)\n",
        "    for (node_1, node_2) in edges: # for (node_1, node_2) in the list of edges\n",
        "      node_1_deg = degree_counter.get(str(node_1), 0)\n",
        "      node_2_deg = degree_counter.get(str(node_2), 0)\n",
        "\n",
        "      degree_counter[str(node_1)] = node_1_deg + 1\n",
        "      degree_counter[str(node_2)] = node_2_deg + 1\n",
        "\n",
        "      num_edges += 1\n",
        "\n",
        "    yield num_edges"
      ]
    },
    {
      "cell_type": "code",
      "execution_count": 5,
      "metadata": {
        "id": "4mrAjVnqEnC0"
      },
      "outputs": [],
      "source": [
        "def sparse_vec(query_stream, threshold, eps):\n",
        "  '''\n",
        "  Implements Alg 6. (Note: we hardcode cutoff c = 1.)\n",
        "\n",
        "  Input: a query stream with sensitivity 1, a threshold, privacy parameter eps.\n",
        "  Output: False if the (noisy) query is above the threshold, or if a\n",
        "  previous (noisy) query was above the threshold. Otherwise, output true\n",
        "  '''\n",
        "  eps_1 = eps_2 = eps/2\n",
        "  Z = np.random.laplace(scale = 1/eps_1)\n",
        "  still_good = True\n",
        "  for (query, debug) in query_stream:\n",
        "    Z_t = np.random.laplace(scale = 1/eps_2)\n",
        "    above_thresh = (query + Z_t >= threshold + Z)\n",
        "    # print(\"query\", query)\n",
        "    # print(\"threshold\", threshold)\n",
        "    if (not above_thresh) and still_good:\n",
        "      yield True # True is \"TOP\"\n",
        "    else:\n",
        "      still_good = False\n",
        "      yield False # False is \"BOT\""
      ]
    },
    {
      "cell_type": "code",
      "execution_count": 6,
      "metadata": {
        "id": "og-RTrXFIhTh"
      },
      "outputs": [],
      "source": [
        "def dtg(D_prime, ell_val, input_stream):\n",
        "  '''\n",
        "  Computes DistToGraph_{D_prime, ell_val}(input_stream), as defined in Defn 4.2.\n",
        "  Note that the algorithm for computing this value follows the method described\n",
        "  in Lemma 4.3, item 2.\n",
        "\n",
        "  Input: D_prime, ell_val, graph stream input_stream.\n",
        "  Output: at each time step, the value of\n",
        "  DistToGraph_{D_prime, ell_val}(input_stream) -- see Defn 4.2.\n",
        "  '''\n",
        "  cum_hist = {}\n",
        "  curr_deg = {}\n",
        "  num_nodes = 0\n",
        "  k_val = max(D_prime + 2, ell_val)\n",
        "\n",
        "  for new_edges_index_ in input_stream:\n",
        "    new_edges = input_stream[new_edges_index_]\n",
        "    for (node_1, node_2) in new_edges:\n",
        "      # increase node counter if nodes are new\n",
        "      if not (str(node_1) in curr_deg):\n",
        "        num_nodes += 1\n",
        "      if not (str(node_2) not in curr_deg):\n",
        "        num_nodes += 1\n",
        "\n",
        "      # update curr_deg\n",
        "      curr_deg[str(node_1)] = curr_deg.get(str(node_1), 0) + 1\n",
        "      curr_deg[str(node_2)] = curr_deg.get(str(node_2), 0) + 1\n",
        "\n",
        "      # update cumulative histogram\n",
        "      node_1_deg_str = str(curr_deg[str(node_1)])\n",
        "      node_2_deg_str = str(curr_deg[str(node_2)])\n",
        "      cum_hist[node_1_deg_str] = cum_hist.get(node_1_deg_str, 0) + 1\n",
        "      cum_hist[node_2_deg_str] = cum_hist.get(node_2_deg_str, 0) + 1\n",
        "\n",
        "      # update k\n",
        "      new_k = k_val\n",
        "      debug_val = 0\n",
        "      for k_prime in [k_val, k_val - 1, k_val - 2]:\n",
        "        cum_hist_lookup = int(D_prime - k_prime + 1)\n",
        "        if k_prime >= max(D_prime - num_nodes + 2, 0):\n",
        "          debug_val = [str(cum_hist_lookup), cum_hist.get(str(cum_hist_lookup), 0)]\n",
        "          if k_prime + cum_hist.get(str(cum_hist_lookup), 0) >= ell_val:\n",
        "            new_k = k_prime\n",
        "\n",
        "      k_val = new_k\n",
        "    # once we've looked at all edges in the stream elt, release k_val\n",
        "    # actually, release -1 * k_val.\n",
        "    yield (-1 * k_val, [num_nodes, D_prime + 2, ell_val, max(D_prime - num_nodes + 2, 0), debug_val])"
      ]
    },
    {
      "cell_type": "code",
      "execution_count": 7,
      "metadata": {
        "id": "mo0Q-6Nd9GYB"
      },
      "outputs": [],
      "source": [
        "def blackbox_priv(deg_bd, beta, beta_test, time_steps, eps_test, eps, delta, input_stream, private_only = True):\n",
        "  '''\n",
        "  Implements Alg 5.\n",
        "\n",
        "  Input: the values provided to Alg 5 -- with the exception of RestrictedPrivAlg -- plus values eps and delta.\n",
        "  Output: an (eps, delta)-node-DP edge count.\n",
        "\n",
        "  NOTE: We hardcode an eps_prime-edge-DP edge-counting function as RestrictedPrivAlg.\n",
        "  '''\n",
        "  D_val = deg_bd\n",
        "  tau = -8 * np.log(1 / beta_test) / eps_test\n",
        "  ell_val = np.ceil(8 * np.log(time_steps / (beta * beta_test)) / eps_test)\n",
        "  D_prime = D_val + ell_val\n",
        "\n",
        "  eps_prime = (eps - eps_test)/(D_prime + ell_val)\n",
        "  del_prime = (delta - (1 + np.exp(eps_test)) * np.exp(eps) * beta_test) / (np.exp(eps_prime*(D_prime + ell_val)) * (D_prime + ell_val))\n",
        "\n",
        "  # generate binary tree noise\n",
        "  binary_mechanism_noise_vector = np.fromiter(binary_mechanism_noise(time_steps, eps_prime, dimensions=1, l1_sens=1), float)\n",
        "  advanced_comp_noise = np.random.normal(scale = (D_val * np.sqrt(time_steps) / eps) * np.sqrt(2 * np.log(1.25/delta)), size = time_steps)\n",
        "\n",
        "  return (0, binary_mechanism_noise_vector, advanced_comp_noise)"
      ]
    },
    {
      "cell_type": "markdown",
      "metadata": {
        "id": "wmir3QHEkDX8"
      },
      "source": [
        "# Generate Graph"
      ]
    },
    {
      "cell_type": "code",
      "execution_count": 8,
      "metadata": {
        "id": "gf5A0qUzeGuA"
      },
      "outputs": [],
      "source": [
        "def make_graph(num_nodes, num_edges, block = False, num_high_deg = 0, average_high_deg = 0):\n",
        "  '''\n",
        "  Make a graph with num_nodes nodes, num_edges edges ().\n",
        "  If block = true, then make num_high_deg of these nodes have high degree,\n",
        "  where these high-degree nodes have an average of average_high_deg additional edges\n",
        "  (centered at average_high_deg, drawn uniformly from [average_high_deg/2, average_high_deg*1.5])\n",
        "\n",
        "  Input: see description above.\n",
        "  Output: an edge list for a graph with the specified properties.\n",
        "  '''\n",
        "\n",
        "  # generate 1d array of coords\n",
        "  edge_list_flat = np.random.randint(0, int(num_nodes), size=2*int(num_edges))\n",
        "  edge_list_2d = edge_list_flat.reshape(-1,2)\n",
        "\n",
        "  # sort array so smallest coord is first\n",
        "  smallest_first = np.sort(edge_list_2d, axis=1)\n",
        "\n",
        "  # if block model, make some of the nodes have high degree.\n",
        "  if block:\n",
        "    # which nodes have high degree\n",
        "    high_deg_nodes = np.random.choice(int(num_nodes), int(num_high_deg), replace=False)\n",
        "\n",
        "    # degree val for the high degree nodes\n",
        "    high_deg_vals = np.random.randint(int(average_high_deg/2), int(average_high_deg * 1.5), size= num_high_deg)\n",
        "\n",
        "    num_edges = np.sum(high_deg_vals)\n",
        "\n",
        "    to_add = np.zeros((num_edges,2), dtype = np.int64)\n",
        "\n",
        "    start_index = 0\n",
        "    end_index = 0\n",
        "\n",
        "    for index_val in range(num_high_deg):\n",
        "      deg_of_node = high_deg_vals[index_val]\n",
        "      first_coord = np.repeat(int(high_deg_nodes[index_val]), deg_of_node)\n",
        "      second_coord = np.random.randint(0, int(num_nodes), size=deg_of_node)\n",
        "\n",
        "      result = np.dstack((first_coord,second_coord))\n",
        "\n",
        "      # sort so first coord smaller\n",
        "      result = np.sort(result, axis=1)\n",
        "\n",
        "      end_index += deg_of_node\n",
        "\n",
        "      to_add[start_index:end_index,:] = result\n",
        "\n",
        "      start_index = end_index\n",
        "\n",
        "    # if block model, combine the lists\n",
        "    combined_lists = np.vstack((smallest_first, to_add))\n",
        "\n",
        "  # otherwise, don't combine the lists.\n",
        "  else:\n",
        "    combined_lists = smallest_first\n",
        "\n",
        "  return combined_lists\n"
      ]
    },
    {
      "cell_type": "code",
      "execution_count": 9,
      "metadata": {
        "id": "4vYo8H9HfuC8"
      },
      "outputs": [],
      "source": [
        "# Create a graph with the following properties\n",
        "num_nodes = 1e6\n",
        "num_edges = 2e8\n",
        "\n",
        "num_high_deg = 5_000\n",
        "average_high_deg = 10_000\n",
        "\n",
        "# set to True if we want a block model\n",
        "block = True\n",
        "\n",
        "combined_lists = make_graph(num_nodes, num_edges, block, num_high_deg, average_high_deg)"
      ]
    },
    {
      "cell_type": "markdown",
      "metadata": {
        "id": "WzgabicGXI2x"
      },
      "source": [
        "# Generate Stream"
      ]
    },
    {
      "cell_type": "code",
      "execution_count": 10,
      "metadata": {
        "id": "T_VqAE2m4NTL"
      },
      "outputs": [],
      "source": [
        "def graph_to_graph_stream(orig_graph, time_steps):\n",
        "  '''\n",
        "  Convert orig_graph to a graph stream, with its edges distributed\n",
        "  uniformly over all time_steps time steps.\n",
        "\n",
        "  Input: a graph orig_graph, an integer time_steps for the number of\n",
        "  time steps over which the graph should arrive.\n",
        "  Output: a graph stream (i.e., a list of sets of edges)\n",
        "  '''\n",
        "\n",
        "  edge_count = np.shape(orig_graph)[0]\n",
        "\n",
        "  timed_edges = orig_graph\n",
        "\n",
        "  rng = np.random.default_rng()\n",
        "  # rng.shuffle(timed_edges)\n",
        "\n",
        "  # randomly divide up the edges in the graph\n",
        "  goal_time_steps = int(time_steps) # number of times steps by which all edges should arrive\n",
        "  mean_edges_per_time_step = int(edge_count/goal_time_steps)\n",
        "  num_edges_per_time = rng.integers(low = 0, high = 2*mean_edges_per_time_step, size = time_steps) # randomly look at the next 'num_edges_per_time[t]' edges at time t\n",
        "\n",
        "  cumulative_edges_per_time = np.cumsum(num_edges_per_time)\n",
        "\n",
        "  start_edge = 0\n",
        "  for time_step in range(time_steps):\n",
        "    end_edge = min(cumulative_edges_per_time[time_step], edge_count) # don't want to overflow\n",
        "    edge_set = timed_edges[start_edge:end_edge, :]\n",
        "    start_edge = end_edge\n",
        "\n",
        "    yield edge_set"
      ]
    },
    {
      "cell_type": "code",
      "execution_count": null,
      "metadata": {
        "colab": {
          "base_uri": "https://localhost:8080/"
        },
        "id": "ATuMhc6cy3VD",
        "outputId": "10cb01e8-166b-4962-e7af-c54f93ecae6f"
      },
      "outputs": [],
      "source": [
        "# generate the graph stream\n",
        "time_steps = int(1e6)\n",
        "\n",
        "# store the graph stream from combined_lists in graph_stream\n",
        "graph_stream = {}\n",
        "\n",
        "index = 0\n",
        "for item in graph_to_graph_stream(combined_lists, time_steps):\n",
        "  graph_stream[str(index)] = item\n",
        "  index += 1\n",
        "  if index % 100 == 0:\n",
        "    print(index)"
      ]
    },
    {
      "cell_type": "markdown",
      "metadata": {
        "id": "8k915WDulgZ7"
      },
      "source": [
        "# Run Algorithm"
      ]
    },
    {
      "cell_type": "code",
      "execution_count": 12,
      "metadata": {
        "colab": {
          "base_uri": "https://localhost:8080/"
        },
        "id": "3CfmoZsyU5xX",
        "outputId": "0e636050-73d7-49b4-9b35-cfbdefedb40d"
      },
      "outputs": [
        {
          "name": "stderr",
          "output_type": "stream",
          "text": [
            "<ipython-input-7-a12be67ed9c1>:19: DeprecationWarning: Conversion of an array with ndim > 0 to a scalar is deprecated, and will error in future. Ensure you extract a single element from your array before performing this operation. (Deprecated NumPy 1.25.)\n",
            "  binary_mechanism_noise_vector = np.fromiter(binary_mechanism_noise(time_steps, eps_prime, dimensions=1, l1_sens=1), float)\n"
          ]
        }
      ],
      "source": [
        "# Run algorithm with the following parameters\n",
        "fail_prob = 0.05\n",
        "eps = 1\n",
        "eps_test = eps/2\n",
        "delta = 1/1e10\n",
        "fail_prob_test = delta/30\n",
        "deg_bd = 15_000\n",
        "\n",
        "# generate noise\n",
        "(true_noise, noise_bin_tree, noise_advanced_comp) = blackbox_priv(deg_bd, fail_prob, fail_prob_test, time_steps, eps_test, eps, delta, graph_stream, private_only = False)\n",
        "\n",
        "# count number of elts in stream\n",
        "stream_elt_count = np.zeros(time_steps, dtype = np.int64)\n",
        "index = 0\n",
        "for stream_elt_key_ in graph_stream:\n",
        "  stream_elt_count[index] = np.shape(graph_stream[stream_elt_key_])[0]\n",
        "  index += 1\n",
        "\n",
        "# store true answers in true_ans, our alg's answers in noisy_ans,\n",
        "# and batch model alg with gaussian noise in noisy_basic.\n",
        "true_ans = np.cumsum(stream_elt_count)\n",
        "noisy_ans = true_ans + noise_bin_tree\n",
        "noisy_basic = true_ans + noise_advanced_comp"
      ]
    },
    {
      "cell_type": "markdown",
      "metadata": {
        "id": "aaxo7hQWlmTi"
      },
      "source": [
        "# Create Plots"
      ]
    },
    {
      "cell_type": "code",
      "execution_count": 15,
      "metadata": {
        "colab": {
          "base_uri": "https://localhost:8080/",
          "height": 472
        },
        "id": "VISLAlccbqnW",
        "outputId": "ef4f2e04-d847-4a12-923e-aa6350a96b65"
      },
      "outputs": [
        {
          "data": {
            "image/png": "[encoded data removed]",
            "text/plain": [
              "<Figure size 640x480 with 1 Axes>"
            ]
          },
          "metadata": {},
          "output_type": "display_data"
        }
      ],
      "source": [
        "stop_after = int(10**6)\n",
        "\n",
        "# Plot edge counts from naive batch, our alg, and the true count\n",
        "t = np.arange(0, time_steps)\n",
        "\n",
        "x_axis = int(stop_after)\n",
        "\n",
        "plt.figure()\n",
        "plt.plot(t[:x_axis], noisy_basic[:x_axis], label='Batch model')\n",
        "plt.plot(t[:x_axis], noisy_ans[:x_axis], label='Our alg')\n",
        "plt.plot(t[:x_axis], true_ans[:x_axis], label='True count')\n",
        "plt.xlabel(\"t\")\n",
        "plt.ylabel(\"Count\")\n",
        "plt.title(f'Edge counts for block graph with D = {deg_bd}')\n",
        "plt.legend()\n",
        "plt.show()"
      ]
    },
    {
      "cell_type": "code",
      "execution_count": 16,
      "metadata": {
        "colab": {
          "base_uri": "https://localhost:8080/",
          "height": 472
        },
        "id": "HBaMDoM5mKgm",
        "outputId": "99750f99-aa59-42a8-ee04-10af6a28463e"
      },
      "outputs": [
        {
          "data": {
            "image/png": "[encoded data removed]",
            "text/plain": [
              "<Figure size 640x480 with 1 Axes>"
            ]
          },
          "metadata": {},
          "output_type": "display_data"
        }
      ],
      "source": [
        "# plot rel error\n",
        "x_start = 0 # time at which the x-axis should start\n",
        "x_end = int(stop_after) - 200\n",
        "plot_start = 10_000\n",
        "\n",
        "naive_error = np.abs(noisy_basic - true_ans)\n",
        "\n",
        "our_error = np.abs(noisy_ans - true_ans)\n",
        "\n",
        "\n",
        "plt.figure()\n",
        "\n",
        "# smooth\n",
        "smooth_steps = 500\n",
        "plt.semilogy(t[x_start:x_end], (np.convolve((naive_error / (true_ans/2))[x_start:], np.ones(smooth_steps), mode = 'same')/smooth_steps)[x_start:x_end], label='Batch rel error')\n",
        "plt.semilogy(t[x_start:x_end], (np.convolve((our_error / (true_ans/2))[x_start:], np.ones(smooth_steps), mode = 'same')/smooth_steps)[x_start:x_end], label='Our rel error')\n",
        "\n",
        "plt.xlabel(\"t\")\n",
        "plt.ylabel(\"Relative error\")\n",
        "plt.legend()\n",
        "plt.title(f'Relative error for block graph with D = {deg_bd}')\n",
        "plt.show()"
      ]
    }
  ],
  "metadata": {
    "colab": {
      "provenance": [],
      "toc_visible": true
    },
    "kernelspec": {
      "display_name": "Python 3",
      "name": "python3"
    },
    "language_info": {
      "name": "python"
    }
  },
  "nbformat": 4,
  "nbformat_minor": 0
}
